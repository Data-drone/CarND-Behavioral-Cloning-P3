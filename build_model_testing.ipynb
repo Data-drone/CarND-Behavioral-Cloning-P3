{
 "cells": [
  {
   "cell_type": "code",
   "execution_count": 9,
   "metadata": {},
   "outputs": [
    {
     "name": "stdout",
     "output_type": "stream",
     "text": [
      "The autoreload extension is already loaded. To reload it, use:\n",
      "  %reload_ext autoreload\n"
     ]
    }
   ],
   "source": [
    "%load_ext autoreload\n",
    "%autoreload 2"
   ]
  },
  {
   "cell_type": "markdown",
   "metadata": {},
   "source": [
    "# Testing notebook"
   ]
  },
  {
   "cell_type": "code",
   "execution_count": 10,
   "metadata": {},
   "outputs": [],
   "source": [
    "import pandas as pd\n",
    "import os\n",
    "import matplotlib.pyplot as plt\n",
    "import numpy as np"
   ]
  },
  {
   "cell_type": "code",
   "execution_count": 11,
   "metadata": {},
   "outputs": [],
   "source": [
    "data_dir = 'data'\n",
    "processed_data = 'processed_data'"
   ]
  },
  {
   "cell_type": "code",
   "execution_count": 12,
   "metadata": {},
   "outputs": [],
   "source": [
    "dataset = pd.read_csv(os.path.join(processed_data, 'dataset.csv'))"
   ]
  },
  {
   "cell_type": "code",
   "execution_count": 13,
   "metadata": {},
   "outputs": [
    {
     "data": {
      "text/html": [
       "<div>\n",
       "<style scoped>\n",
       "    .dataframe tbody tr th:only-of-type {\n",
       "        vertical-align: middle;\n",
       "    }\n",
       "\n",
       "    .dataframe tbody tr th {\n",
       "        vertical-align: top;\n",
       "    }\n",
       "\n",
       "    .dataframe thead th {\n",
       "        text-align: right;\n",
       "    }\n",
       "</style>\n",
       "<table border=\"1\" class=\"dataframe\">\n",
       "  <thead>\n",
       "    <tr style=\"text-align: right;\">\n",
       "      <th></th>\n",
       "      <th>center_image</th>\n",
       "      <th>left_image</th>\n",
       "      <th>right_image</th>\n",
       "      <th>steering_angle</th>\n",
       "      <th>throttle</th>\n",
       "      <th>break</th>\n",
       "      <th>speed</th>\n",
       "      <th>folder</th>\n",
       "    </tr>\n",
       "  </thead>\n",
       "  <tbody>\n",
       "    <tr>\n",
       "      <th>0</th>\n",
       "      <td>center_2019_05_24_13_42_51_893.jpg</td>\n",
       "      <td>left_2019_05_24_13_42_51_893.jpg</td>\n",
       "      <td>right_2019_05_24_13_42_51_893.jpg</td>\n",
       "      <td>0.0</td>\n",
       "      <td>0.000000</td>\n",
       "      <td>0.0</td>\n",
       "      <td>24.62923</td>\n",
       "      <td>driving_data_2</td>\n",
       "    </tr>\n",
       "    <tr>\n",
       "      <th>1</th>\n",
       "      <td>center_2019_05_24_13_42_51_970.jpg</td>\n",
       "      <td>left_2019_05_24_13_42_51_970.jpg</td>\n",
       "      <td>right_2019_05_24_13_42_51_970.jpg</td>\n",
       "      <td>0.0</td>\n",
       "      <td>0.000000</td>\n",
       "      <td>0.0</td>\n",
       "      <td>24.43121</td>\n",
       "      <td>driving_data_2</td>\n",
       "    </tr>\n",
       "    <tr>\n",
       "      <th>2</th>\n",
       "      <td>center_2019_05_24_13_42_52_041.jpg</td>\n",
       "      <td>left_2019_05_24_13_42_52_041.jpg</td>\n",
       "      <td>right_2019_05_24_13_42_52_041.jpg</td>\n",
       "      <td>0.0</td>\n",
       "      <td>0.000000</td>\n",
       "      <td>0.0</td>\n",
       "      <td>24.23477</td>\n",
       "      <td>driving_data_2</td>\n",
       "    </tr>\n",
       "    <tr>\n",
       "      <th>3</th>\n",
       "      <td>center_2019_05_24_13_42_52_111.jpg</td>\n",
       "      <td>left_2019_05_24_13_42_52_111.jpg</td>\n",
       "      <td>right_2019_05_24_13_42_52_111.jpg</td>\n",
       "      <td>0.0</td>\n",
       "      <td>0.000000</td>\n",
       "      <td>0.0</td>\n",
       "      <td>24.08849</td>\n",
       "      <td>driving_data_2</td>\n",
       "    </tr>\n",
       "    <tr>\n",
       "      <th>4</th>\n",
       "      <td>center_2019_05_24_13_42_52_179.jpg</td>\n",
       "      <td>left_2019_05_24_13_42_52_179.jpg</td>\n",
       "      <td>right_2019_05_24_13_42_52_179.jpg</td>\n",
       "      <td>0.0</td>\n",
       "      <td>0.000000</td>\n",
       "      <td>0.0</td>\n",
       "      <td>23.94309</td>\n",
       "      <td>driving_data_2</td>\n",
       "    </tr>\n",
       "    <tr>\n",
       "      <th>5</th>\n",
       "      <td>center_2019_05_24_13_42_52_246.jpg</td>\n",
       "      <td>left_2019_05_24_13_42_52_246.jpg</td>\n",
       "      <td>right_2019_05_24_13_42_52_246.jpg</td>\n",
       "      <td>0.0</td>\n",
       "      <td>0.000000</td>\n",
       "      <td>0.0</td>\n",
       "      <td>23.75058</td>\n",
       "      <td>driving_data_2</td>\n",
       "    </tr>\n",
       "    <tr>\n",
       "      <th>6</th>\n",
       "      <td>center_2019_05_24_13_42_52_316.jpg</td>\n",
       "      <td>left_2019_05_24_13_42_52_316.jpg</td>\n",
       "      <td>right_2019_05_24_13_42_52_316.jpg</td>\n",
       "      <td>0.0</td>\n",
       "      <td>0.000000</td>\n",
       "      <td>0.0</td>\n",
       "      <td>23.60721</td>\n",
       "      <td>driving_data_2</td>\n",
       "    </tr>\n",
       "    <tr>\n",
       "      <th>7</th>\n",
       "      <td>center_2019_05_24_13_42_52_384.jpg</td>\n",
       "      <td>left_2019_05_24_13_42_52_384.jpg</td>\n",
       "      <td>right_2019_05_24_13_42_52_384.jpg</td>\n",
       "      <td>0.0</td>\n",
       "      <td>0.118662</td>\n",
       "      <td>0.0</td>\n",
       "      <td>23.44914</td>\n",
       "      <td>driving_data_2</td>\n",
       "    </tr>\n",
       "    <tr>\n",
       "      <th>8</th>\n",
       "      <td>center_2019_05_24_13_42_52_451.jpg</td>\n",
       "      <td>left_2019_05_24_13_42_52_451.jpg</td>\n",
       "      <td>right_2019_05_24_13_42_52_451.jpg</td>\n",
       "      <td>0.0</td>\n",
       "      <td>0.318925</td>\n",
       "      <td>0.0</td>\n",
       "      <td>23.45194</td>\n",
       "      <td>driving_data_2</td>\n",
       "    </tr>\n",
       "    <tr>\n",
       "      <th>9</th>\n",
       "      <td>center_2019_05_24_13_42_52_526.jpg</td>\n",
       "      <td>left_2019_05_24_13_42_52_526.jpg</td>\n",
       "      <td>right_2019_05_24_13_42_52_526.jpg</td>\n",
       "      <td>0.0</td>\n",
       "      <td>0.547578</td>\n",
       "      <td>0.0</td>\n",
       "      <td>23.67355</td>\n",
       "      <td>driving_data_2</td>\n",
       "    </tr>\n",
       "  </tbody>\n",
       "</table>\n",
       "</div>"
      ],
      "text/plain": [
       "                         center_image                        left_image  \\\n",
       "0  center_2019_05_24_13_42_51_893.jpg  left_2019_05_24_13_42_51_893.jpg   \n",
       "1  center_2019_05_24_13_42_51_970.jpg  left_2019_05_24_13_42_51_970.jpg   \n",
       "2  center_2019_05_24_13_42_52_041.jpg  left_2019_05_24_13_42_52_041.jpg   \n",
       "3  center_2019_05_24_13_42_52_111.jpg  left_2019_05_24_13_42_52_111.jpg   \n",
       "4  center_2019_05_24_13_42_52_179.jpg  left_2019_05_24_13_42_52_179.jpg   \n",
       "5  center_2019_05_24_13_42_52_246.jpg  left_2019_05_24_13_42_52_246.jpg   \n",
       "6  center_2019_05_24_13_42_52_316.jpg  left_2019_05_24_13_42_52_316.jpg   \n",
       "7  center_2019_05_24_13_42_52_384.jpg  left_2019_05_24_13_42_52_384.jpg   \n",
       "8  center_2019_05_24_13_42_52_451.jpg  left_2019_05_24_13_42_52_451.jpg   \n",
       "9  center_2019_05_24_13_42_52_526.jpg  left_2019_05_24_13_42_52_526.jpg   \n",
       "\n",
       "                         right_image  steering_angle  throttle  break  \\\n",
       "0  right_2019_05_24_13_42_51_893.jpg             0.0  0.000000    0.0   \n",
       "1  right_2019_05_24_13_42_51_970.jpg             0.0  0.000000    0.0   \n",
       "2  right_2019_05_24_13_42_52_041.jpg             0.0  0.000000    0.0   \n",
       "3  right_2019_05_24_13_42_52_111.jpg             0.0  0.000000    0.0   \n",
       "4  right_2019_05_24_13_42_52_179.jpg             0.0  0.000000    0.0   \n",
       "5  right_2019_05_24_13_42_52_246.jpg             0.0  0.000000    0.0   \n",
       "6  right_2019_05_24_13_42_52_316.jpg             0.0  0.000000    0.0   \n",
       "7  right_2019_05_24_13_42_52_384.jpg             0.0  0.118662    0.0   \n",
       "8  right_2019_05_24_13_42_52_451.jpg             0.0  0.318925    0.0   \n",
       "9  right_2019_05_24_13_42_52_526.jpg             0.0  0.547578    0.0   \n",
       "\n",
       "      speed          folder  \n",
       "0  24.62923  driving_data_2  \n",
       "1  24.43121  driving_data_2  \n",
       "2  24.23477  driving_data_2  \n",
       "3  24.08849  driving_data_2  \n",
       "4  23.94309  driving_data_2  \n",
       "5  23.75058  driving_data_2  \n",
       "6  23.60721  driving_data_2  \n",
       "7  23.44914  driving_data_2  \n",
       "8  23.45194  driving_data_2  \n",
       "9  23.67355  driving_data_2  "
      ]
     },
     "execution_count": 13,
     "metadata": {},
     "output_type": "execute_result"
    }
   ],
   "source": [
    "dataset.head(10)"
   ]
  },
  {
   "cell_type": "code",
   "execution_count": 14,
   "metadata": {},
   "outputs": [
    {
     "data": {
      "text/plain": [
       "7921"
      ]
     },
     "execution_count": 14,
     "metadata": {},
     "output_type": "execute_result"
    }
   ],
   "source": [
    "len(dataset)"
   ]
  },
  {
   "cell_type": "markdown",
   "metadata": {},
   "source": [
    "## Testing sampler"
   ]
  },
  {
   "cell_type": "code",
   "execution_count": 15,
   "metadata": {},
   "outputs": [
    {
     "name": "stderr",
     "output_type": "stream",
     "text": [
      "Using TensorFlow backend.\n"
     ]
    }
   ],
   "source": [
    "from model import image_generator"
   ]
  },
  {
   "cell_type": "code",
   "execution_count": 16,
   "metadata": {},
   "outputs": [],
   "source": [
    "testset = dataset"
   ]
  },
  {
   "cell_type": "code",
   "execution_count": 17,
   "metadata": {},
   "outputs": [
    {
     "data": {
      "text/plain": [
       "7921"
      ]
     },
     "execution_count": 17,
     "metadata": {},
     "output_type": "execute_result"
    }
   ],
   "source": [
    "len(dataset)"
   ]
  },
  {
   "cell_type": "code",
   "execution_count": 9,
   "metadata": {},
   "outputs": [],
   "source": [
    "validation = dataset.sample(frac=0.2)"
   ]
  },
  {
   "cell_type": "code",
   "execution_count": 10,
   "metadata": {},
   "outputs": [
    {
     "data": {
      "text/plain": [
       "1584"
      ]
     },
     "execution_count": 10,
     "metadata": {},
     "output_type": "execute_result"
    }
   ],
   "source": [
    "len(validation)"
   ]
  },
  {
   "cell_type": "code",
   "execution_count": 11,
   "metadata": {},
   "outputs": [],
   "source": [
    "testset = dataset.drop(validation.index)"
   ]
  },
  {
   "cell_type": "code",
   "execution_count": 12,
   "metadata": {},
   "outputs": [
    {
     "data": {
      "text/plain": [
       "6337"
      ]
     },
     "execution_count": 12,
     "metadata": {},
     "output_type": "execute_result"
    }
   ],
   "source": [
    "len(testset)"
   ]
  },
  {
   "cell_type": "code",
   "execution_count": 13,
   "metadata": {},
   "outputs": [],
   "source": [
    "img_gen = image_generator(testset)"
   ]
  },
  {
   "cell_type": "code",
   "execution_count": 14,
   "metadata": {},
   "outputs": [],
   "source": [
    "val_gen = image_generator(validation, batch_size=16)"
   ]
  },
  {
   "cell_type": "markdown",
   "metadata": {},
   "source": [
    "# Fit Generator Experiments"
   ]
  },
  {
   "cell_type": "code",
   "execution_count": 15,
   "metadata": {},
   "outputs": [],
   "source": [
    "from model import nvidia_paper_model"
   ]
  },
  {
   "cell_type": "code",
   "execution_count": 16,
   "metadata": {},
   "outputs": [],
   "source": [
    "model = nvidia_paper_model()"
   ]
  },
  {
   "cell_type": "code",
   "execution_count": 17,
   "metadata": {},
   "outputs": [],
   "source": [
    "model.compile(loss='mse', optimizer='adam')\n",
    "#model.fit(x_train, y_train, validation_split=0.2, shuffle=True)"
   ]
  },
  {
   "cell_type": "code",
   "execution_count": 18,
   "metadata": {},
   "outputs": [],
   "source": [
    "epochs = round(len(dataset)/32)"
   ]
  },
  {
   "cell_type": "code",
   "execution_count": 22,
   "metadata": {},
   "outputs": [
    {
     "name": "stdout",
     "output_type": "stream",
     "text": [
      "Epoch 1/5\n",
      "248/248 [==============================] - 46s 184ms/step - loss: 0.0815\n",
      "Epoch 2/5\n",
      "248/248 [==============================] - 46s 185ms/step - loss: 0.0715\n",
      "Epoch 3/5\n",
      "248/248 [==============================] - 46s 185ms/step - loss: 0.0695\n",
      "Epoch 4/5\n",
      "248/248 [==============================] - 44s 178ms/step - loss: 0.0594\n",
      "Epoch 5/5\n",
      "248/248 [==============================] - 44s 177ms/step - loss: 0.0528\n"
     ]
    },
    {
     "data": {
      "text/plain": [
       "<keras.callbacks.History at 0x7f9cc342fe80>"
      ]
     },
     "execution_count": 22,
     "metadata": {},
     "output_type": "execute_result"
    }
   ],
   "source": [
    "model.fit_generator(img_gen, steps_per_epoch=epochs, epochs=5) #, \n",
    "                    #validation_data=val_gen, validation_steps=len(validation)/16)"
   ]
  },
  {
   "cell_type": "code",
   "execution_count": 23,
   "metadata": {},
   "outputs": [],
   "source": [
    "model.save('itr_model.h5')"
   ]
  }
 ],
 "metadata": {
  "kernelspec": {
   "display_name": "Python 3",
   "language": "python",
   "name": "python3"
  },
  "language_info": {
   "codemirror_mode": {
    "name": "ipython",
    "version": 3
   },
   "file_extension": ".py",
   "mimetype": "text/x-python",
   "name": "python",
   "nbconvert_exporter": "python",
   "pygments_lexer": "ipython3",
   "version": "3.5.2"
  },
  "widgets": {
   "state": {},
   "version": "1.1.2"
  }
 },
 "nbformat": 4,
 "nbformat_minor": 2
}
