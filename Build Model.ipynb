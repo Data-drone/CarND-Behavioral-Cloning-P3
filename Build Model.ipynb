{
 "cells": [
  {
   "cell_type": "markdown",
   "metadata": {},
   "source": [
    "# Build Model Workbook"
   ]
  },
  {
   "cell_type": "code",
   "execution_count": 11,
   "metadata": {},
   "outputs": [],
   "source": [
    "import pandas as pd\n",
    "import os\n",
    "import matplotlib.pyplot as plt\n",
    "import numpy as np"
   ]
  },
  {
   "cell_type": "markdown",
   "metadata": {},
   "source": [
    "Load Dataset"
   ]
  },
  {
   "cell_type": "code",
   "execution_count": 2,
   "metadata": {},
   "outputs": [],
   "source": [
    "data_dir = 'data'\n",
    "processed_data = 'processed_data'"
   ]
  },
  {
   "cell_type": "code",
   "execution_count": 3,
   "metadata": {},
   "outputs": [],
   "source": [
    "dataset = pd.read_csv(os.path.join(processed_data, 'dataset.csv'))"
   ]
  },
  {
   "cell_type": "code",
   "execution_count": 4,
   "metadata": {},
   "outputs": [
    {
     "data": {
      "text/html": [
       "<div>\n",
       "<style scoped>\n",
       "    .dataframe tbody tr th:only-of-type {\n",
       "        vertical-align: middle;\n",
       "    }\n",
       "\n",
       "    .dataframe tbody tr th {\n",
       "        vertical-align: top;\n",
       "    }\n",
       "\n",
       "    .dataframe thead th {\n",
       "        text-align: right;\n",
       "    }\n",
       "</style>\n",
       "<table border=\"1\" class=\"dataframe\">\n",
       "  <thead>\n",
       "    <tr style=\"text-align: right;\">\n",
       "      <th></th>\n",
       "      <th>center_image</th>\n",
       "      <th>left_image</th>\n",
       "      <th>right_image</th>\n",
       "      <th>steering_angle</th>\n",
       "      <th>throttle</th>\n",
       "      <th>break</th>\n",
       "      <th>speed</th>\n",
       "      <th>folder</th>\n",
       "    </tr>\n",
       "  </thead>\n",
       "  <tbody>\n",
       "    <tr>\n",
       "      <th>0</th>\n",
       "      <td>center_2019_05_24_13_42_51_893.jpg</td>\n",
       "      <td>left_2019_05_24_13_42_51_893.jpg</td>\n",
       "      <td>right_2019_05_24_13_42_51_893.jpg</td>\n",
       "      <td>0.0</td>\n",
       "      <td>0.000000</td>\n",
       "      <td>0.0</td>\n",
       "      <td>24.62923</td>\n",
       "      <td>driving_data_2</td>\n",
       "    </tr>\n",
       "    <tr>\n",
       "      <th>1</th>\n",
       "      <td>center_2019_05_24_13_42_51_970.jpg</td>\n",
       "      <td>left_2019_05_24_13_42_51_970.jpg</td>\n",
       "      <td>right_2019_05_24_13_42_51_970.jpg</td>\n",
       "      <td>0.0</td>\n",
       "      <td>0.000000</td>\n",
       "      <td>0.0</td>\n",
       "      <td>24.43121</td>\n",
       "      <td>driving_data_2</td>\n",
       "    </tr>\n",
       "    <tr>\n",
       "      <th>2</th>\n",
       "      <td>center_2019_05_24_13_42_52_041.jpg</td>\n",
       "      <td>left_2019_05_24_13_42_52_041.jpg</td>\n",
       "      <td>right_2019_05_24_13_42_52_041.jpg</td>\n",
       "      <td>0.0</td>\n",
       "      <td>0.000000</td>\n",
       "      <td>0.0</td>\n",
       "      <td>24.23477</td>\n",
       "      <td>driving_data_2</td>\n",
       "    </tr>\n",
       "    <tr>\n",
       "      <th>3</th>\n",
       "      <td>center_2019_05_24_13_42_52_111.jpg</td>\n",
       "      <td>left_2019_05_24_13_42_52_111.jpg</td>\n",
       "      <td>right_2019_05_24_13_42_52_111.jpg</td>\n",
       "      <td>0.0</td>\n",
       "      <td>0.000000</td>\n",
       "      <td>0.0</td>\n",
       "      <td>24.08849</td>\n",
       "      <td>driving_data_2</td>\n",
       "    </tr>\n",
       "    <tr>\n",
       "      <th>4</th>\n",
       "      <td>center_2019_05_24_13_42_52_179.jpg</td>\n",
       "      <td>left_2019_05_24_13_42_52_179.jpg</td>\n",
       "      <td>right_2019_05_24_13_42_52_179.jpg</td>\n",
       "      <td>0.0</td>\n",
       "      <td>0.000000</td>\n",
       "      <td>0.0</td>\n",
       "      <td>23.94309</td>\n",
       "      <td>driving_data_2</td>\n",
       "    </tr>\n",
       "    <tr>\n",
       "      <th>5</th>\n",
       "      <td>center_2019_05_24_13_42_52_246.jpg</td>\n",
       "      <td>left_2019_05_24_13_42_52_246.jpg</td>\n",
       "      <td>right_2019_05_24_13_42_52_246.jpg</td>\n",
       "      <td>0.0</td>\n",
       "      <td>0.000000</td>\n",
       "      <td>0.0</td>\n",
       "      <td>23.75058</td>\n",
       "      <td>driving_data_2</td>\n",
       "    </tr>\n",
       "    <tr>\n",
       "      <th>6</th>\n",
       "      <td>center_2019_05_24_13_42_52_316.jpg</td>\n",
       "      <td>left_2019_05_24_13_42_52_316.jpg</td>\n",
       "      <td>right_2019_05_24_13_42_52_316.jpg</td>\n",
       "      <td>0.0</td>\n",
       "      <td>0.000000</td>\n",
       "      <td>0.0</td>\n",
       "      <td>23.60721</td>\n",
       "      <td>driving_data_2</td>\n",
       "    </tr>\n",
       "    <tr>\n",
       "      <th>7</th>\n",
       "      <td>center_2019_05_24_13_42_52_384.jpg</td>\n",
       "      <td>left_2019_05_24_13_42_52_384.jpg</td>\n",
       "      <td>right_2019_05_24_13_42_52_384.jpg</td>\n",
       "      <td>0.0</td>\n",
       "      <td>0.118662</td>\n",
       "      <td>0.0</td>\n",
       "      <td>23.44914</td>\n",
       "      <td>driving_data_2</td>\n",
       "    </tr>\n",
       "    <tr>\n",
       "      <th>8</th>\n",
       "      <td>center_2019_05_24_13_42_52_451.jpg</td>\n",
       "      <td>left_2019_05_24_13_42_52_451.jpg</td>\n",
       "      <td>right_2019_05_24_13_42_52_451.jpg</td>\n",
       "      <td>0.0</td>\n",
       "      <td>0.318925</td>\n",
       "      <td>0.0</td>\n",
       "      <td>23.45194</td>\n",
       "      <td>driving_data_2</td>\n",
       "    </tr>\n",
       "    <tr>\n",
       "      <th>9</th>\n",
       "      <td>center_2019_05_24_13_42_52_526.jpg</td>\n",
       "      <td>left_2019_05_24_13_42_52_526.jpg</td>\n",
       "      <td>right_2019_05_24_13_42_52_526.jpg</td>\n",
       "      <td>0.0</td>\n",
       "      <td>0.547578</td>\n",
       "      <td>0.0</td>\n",
       "      <td>23.67355</td>\n",
       "      <td>driving_data_2</td>\n",
       "    </tr>\n",
       "  </tbody>\n",
       "</table>\n",
       "</div>"
      ],
      "text/plain": [
       "                         center_image                        left_image  \\\n",
       "0  center_2019_05_24_13_42_51_893.jpg  left_2019_05_24_13_42_51_893.jpg   \n",
       "1  center_2019_05_24_13_42_51_970.jpg  left_2019_05_24_13_42_51_970.jpg   \n",
       "2  center_2019_05_24_13_42_52_041.jpg  left_2019_05_24_13_42_52_041.jpg   \n",
       "3  center_2019_05_24_13_42_52_111.jpg  left_2019_05_24_13_42_52_111.jpg   \n",
       "4  center_2019_05_24_13_42_52_179.jpg  left_2019_05_24_13_42_52_179.jpg   \n",
       "5  center_2019_05_24_13_42_52_246.jpg  left_2019_05_24_13_42_52_246.jpg   \n",
       "6  center_2019_05_24_13_42_52_316.jpg  left_2019_05_24_13_42_52_316.jpg   \n",
       "7  center_2019_05_24_13_42_52_384.jpg  left_2019_05_24_13_42_52_384.jpg   \n",
       "8  center_2019_05_24_13_42_52_451.jpg  left_2019_05_24_13_42_52_451.jpg   \n",
       "9  center_2019_05_24_13_42_52_526.jpg  left_2019_05_24_13_42_52_526.jpg   \n",
       "\n",
       "                         right_image  steering_angle  throttle  break  \\\n",
       "0  right_2019_05_24_13_42_51_893.jpg             0.0  0.000000    0.0   \n",
       "1  right_2019_05_24_13_42_51_970.jpg             0.0  0.000000    0.0   \n",
       "2  right_2019_05_24_13_42_52_041.jpg             0.0  0.000000    0.0   \n",
       "3  right_2019_05_24_13_42_52_111.jpg             0.0  0.000000    0.0   \n",
       "4  right_2019_05_24_13_42_52_179.jpg             0.0  0.000000    0.0   \n",
       "5  right_2019_05_24_13_42_52_246.jpg             0.0  0.000000    0.0   \n",
       "6  right_2019_05_24_13_42_52_316.jpg             0.0  0.000000    0.0   \n",
       "7  right_2019_05_24_13_42_52_384.jpg             0.0  0.118662    0.0   \n",
       "8  right_2019_05_24_13_42_52_451.jpg             0.0  0.318925    0.0   \n",
       "9  right_2019_05_24_13_42_52_526.jpg             0.0  0.547578    0.0   \n",
       "\n",
       "      speed          folder  \n",
       "0  24.62923  driving_data_2  \n",
       "1  24.43121  driving_data_2  \n",
       "2  24.23477  driving_data_2  \n",
       "3  24.08849  driving_data_2  \n",
       "4  23.94309  driving_data_2  \n",
       "5  23.75058  driving_data_2  \n",
       "6  23.60721  driving_data_2  \n",
       "7  23.44914  driving_data_2  \n",
       "8  23.45194  driving_data_2  \n",
       "9  23.67355  driving_data_2  "
      ]
     },
     "execution_count": 4,
     "metadata": {},
     "output_type": "execute_result"
    }
   ],
   "source": [
    "dataset.head(10)"
   ]
  },
  {
   "cell_type": "markdown",
   "metadata": {},
   "source": [
    "# Build Simple Dataset"
   ]
  },
  {
   "cell_type": "markdown",
   "metadata": {},
   "source": [
    "center image only with steering angles"
   ]
  },
  {
   "cell_type": "code",
   "execution_count": 5,
   "metadata": {},
   "outputs": [],
   "source": [
    "x_set = []\n",
    "y_set = []\n",
    "for rn, row in dataset.iterrows():\n",
    "    path = os.path.join('.', data_dir, row['folder'], 'IMG', row['center_image'])\n",
    "    image = plt.imread(path)\n",
    "    x_set.append(image)\n",
    "    y_set.append(row['steering_angle'])"
   ]
  },
  {
   "cell_type": "code",
   "execution_count": 6,
   "metadata": {},
   "outputs": [
    {
     "data": {
      "text/plain": [
       "7921"
      ]
     },
     "execution_count": 6,
     "metadata": {},
     "output_type": "execute_result"
    }
   ],
   "source": [
    "len(x_set)"
   ]
  },
  {
   "cell_type": "code",
   "execution_count": 7,
   "metadata": {},
   "outputs": [
    {
     "data": {
      "text/plain": [
       "array(['driving_data_2', 'driving_data_1', 'driving_data_3'], dtype=object)"
      ]
     },
     "execution_count": 7,
     "metadata": {},
     "output_type": "execute_result"
    }
   ],
   "source": [
    "dataset['folder'].unique()"
   ]
  },
  {
   "cell_type": "code",
   "execution_count": 9,
   "metadata": {},
   "outputs": [
    {
     "data": {
      "text/plain": [
       "(160, 320, 3)"
      ]
     },
     "execution_count": 9,
     "metadata": {},
     "output_type": "execute_result"
    }
   ],
   "source": [
    "x_set[0].shape"
   ]
  },
  {
   "cell_type": "code",
   "execution_count": 12,
   "metadata": {},
   "outputs": [],
   "source": [
    "x_train = np.array(x_set)\n",
    "y_train = np.array(y_set)"
   ]
  },
  {
   "cell_type": "code",
   "execution_count": 13,
   "metadata": {},
   "outputs": [
    {
     "data": {
      "text/plain": [
       "(7921, 160, 320, 3)"
      ]
     },
     "execution_count": 13,
     "metadata": {},
     "output_type": "execute_result"
    }
   ],
   "source": [
    "x_train.shape"
   ]
  },
  {
   "cell_type": "code",
   "execution_count": 14,
   "metadata": {},
   "outputs": [
    {
     "data": {
      "text/plain": [
       "(7921,)"
      ]
     },
     "execution_count": 14,
     "metadata": {},
     "output_type": "execute_result"
    }
   ],
   "source": [
    "y_train.shape"
   ]
  },
  {
   "cell_type": "markdown",
   "metadata": {},
   "source": [
    "# Simple Model"
   ]
  },
  {
   "cell_type": "code",
   "execution_count": 8,
   "metadata": {},
   "outputs": [
    {
     "name": "stderr",
     "output_type": "stream",
     "text": [
      "Using TensorFlow backend.\n"
     ]
    }
   ],
   "source": [
    "from keras.models import Sequential\n",
    "from keras.layers import Flatten, Dense"
   ]
  },
  {
   "cell_type": "code",
   "execution_count": 15,
   "metadata": {},
   "outputs": [
    {
     "name": "stdout",
     "output_type": "stream",
     "text": [
      "Epoch 1/10\n",
      "7921/7921 [==============================] - 2s 273us/step - loss: 6330750.7567\n",
      "Epoch 2/10\n",
      "7921/7921 [==============================] - 2s 268us/step - loss: 3189.8016\n",
      "Epoch 3/10\n",
      "7921/7921 [==============================] - 2s 266us/step - loss: 2260.3092\n",
      "Epoch 4/10\n",
      "7921/7921 [==============================] - 2s 269us/step - loss: 3153.2086\n",
      "Epoch 5/10\n",
      "7921/7921 [==============================] - 2s 267us/step - loss: 2191.0430\n",
      "Epoch 6/10\n",
      "7921/7921 [==============================] - 2s 268us/step - loss: 2950.0167\n",
      "Epoch 7/10\n",
      "7921/7921 [==============================] - 2s 264us/step - loss: 4504.1209\n",
      "Epoch 8/10\n",
      "7921/7921 [==============================] - 2s 267us/step - loss: 24501.2849\n",
      "Epoch 9/10\n",
      "7921/7921 [==============================] - 2s 267us/step - loss: 1336917.8388\n",
      "Epoch 10/10\n",
      "7921/7921 [==============================] - 2s 263us/step - loss: 90715.8200\n"
     ]
    },
    {
     "data": {
      "text/plain": [
       "<keras.callbacks.History at 0x7f5ce35a1860>"
      ]
     },
     "execution_count": 15,
     "metadata": {},
     "output_type": "execute_result"
    }
   ],
   "source": [
    "model = Sequential()\n",
    "model.add(Flatten(input_shape=(160, 320, 3)))\n",
    "model.add(Dense(1))\n",
    "\n",
    "model.compile(loss='mse', optimizer='adam')\n",
    "model.fit(x_train, y_train)"
   ]
  },
  {
   "cell_type": "code",
   "execution_count": null,
   "metadata": {},
   "outputs": [],
   "source": []
  }
 ],
 "metadata": {
  "kernelspec": {
   "display_name": "Python 3",
   "language": "python",
   "name": "python3"
  },
  "language_info": {
   "codemirror_mode": {
    "name": "ipython",
    "version": 3
   },
   "file_extension": ".py",
   "mimetype": "text/x-python",
   "name": "python",
   "nbconvert_exporter": "python",
   "pygments_lexer": "ipython3",
   "version": "3.5.2"
  },
  "widgets": {
   "state": {},
   "version": "1.1.2"
  }
 },
 "nbformat": 4,
 "nbformat_minor": 2
}
